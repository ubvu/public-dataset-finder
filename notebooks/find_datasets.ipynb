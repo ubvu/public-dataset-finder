{
 "cells": [
  {
   "cell_type": "code",
   "execution_count": null,
   "id": "8eb64f8d-9e93-4865-9a2d-ef0f106f5ec3",
   "metadata": {},
   "outputs": [],
   "source": [
    "#install.packages(\"httr2\", repos='http://cran.us.r-project.org')"
   ]
  },
  {
   "cell_type": "code",
   "execution_count": 1,
   "id": "8a58ed6a-518d-43b9-aa7d-9eb6ec8b09b0",
   "metadata": {},
   "outputs": [
    {
     "name": "stderr",
     "output_type": "stream",
     "text": [
      "\n",
      "Attaching package: 'dplyr'\n",
      "\n",
      "\n",
      "The following objects are masked from 'package:stats':\n",
      "\n",
      "    filter, lag\n",
      "\n",
      "\n",
      "The following objects are masked from 'package:base':\n",
      "\n",
      "    intersect, setdiff, setequal, union\n",
      "\n",
      "\n"
     ]
    }
   ],
   "source": [
    "library(readxl)\n",
    "library(dplyr)\n",
    "library(stringr)\n",
    "library(httr2)\n",
    "library(jsonlite)"
   ]
  },
  {
   "cell_type": "code",
   "execution_count": 2,
   "id": "6e2caeae-eb22-4178-ad90-98b83cec1096",
   "metadata": {},
   "outputs": [],
   "source": [
    "# using the processed file so some of the following steps are redundant\n",
    "# should be replaced with the Pure export\n",
    "osfDF <- read_xlsx(\"../data/osf_open_data.xlsx\")"
   ]
  },
  {
   "cell_type": "code",
   "execution_count": 3,
   "id": "d1ffb530-22f7-44cb-b113-8f42cba3dc0a",
   "metadata": {},
   "outputs": [],
   "source": [
    "# select only cases where there is (or likely is) public data\n",
    "openData <- osfDF %>% filter(Public.data == \"Yes\" | Public.data == \"Maybe\")"
   ]
  },
  {
   "cell_type": "code",
   "execution_count": 4,
   "id": "35cfea30-4322-4f63-a04a-02d8e25c8638",
   "metadata": {},
   "outputs": [],
   "source": [
    "# clean up the names\n",
    "# NOTE we should attempt fuzzy matching so let's not manually clean the names for now\n",
    "#openData %>% mutate(Name2 = str_remove_all(str_to_lower(Name), \"prof. dr. |dr. |drs. |ing. |, msc|, mba|, ba bsc\"))"
   ]
  },
  {
   "cell_type": "code",
   "execution_count": 5,
   "id": "feee8274-3faf-4dd1-90fc-8ffbc442c90c",
   "metadata": {},
   "outputs": [],
   "source": [
    "# extract raw osf ids\n",
    "ids <- str_extract(openData$Osf.id, \"(https://osf.io/)(.*)/\", 2) "
   ]
  },
  {
   "cell_type": "code",
   "execution_count": 6,
   "id": "7496b971-100e-45f0-a4a0-a34331f84e9d",
   "metadata": {},
   "outputs": [],
   "source": [
    "# deduplicate\n",
    "ids <- unique(ids)"
   ]
  },
  {
   "cell_type": "code",
   "execution_count": 7,
   "id": "ed408de9-93cd-49c9-934d-3164d802d882",
   "metadata": {},
   "outputs": [],
   "source": [
    "# since we will call the api many times it is best to define a function\n",
    "fetch_results <- function(url) {\n",
    "\n",
    "    # make the request\n",
    "    response <- request(url) %>% req_perform()\n",
    "    # no need to check for server-side errors, httr2 turns them into R errors\n",
    "    results <- response %>% resp_body_json()\n",
    "    \n",
    "    return(results)\n",
    "}"
   ]
  },
  {
   "cell_type": "code",
   "execution_count": 8,
   "id": "bccf6feb-6cc2-410c-b236-eef9ba4b34b8",
   "metadata": {},
   "outputs": [],
   "source": [
    "datasets <- data.frame()  # here we store user and dataset ids\n",
    "\n",
    "for (id in ids) {\n",
    "\n",
    "    url <- paste0(\"https://api.osf.io/v2/users/\", id, \"/nodes/\")\n",
    "    \n",
    "    # pagination: continue until no more next pages left (i.e. until url is NULL)\n",
    "    while (!is.null(url)) {\n",
    "        # fetch results from page\n",
    "        results <- fetch_results(url)\n",
    "        # find all datasets\n",
    "        for (node in results$data) {\n",
    "            if (node$attributes$category == \"data\") {\n",
    "                datasets <- rbind(datasets, list(id, node$id))\n",
    "            }\n",
    "        }\n",
    "        # link to next page is new url\n",
    "        url <- results$links$'next'\n",
    "    }\n",
    "}"
   ]
  },
  {
   "cell_type": "code",
   "execution_count": 9,
   "id": "21f152fe-7c5e-4b08-a580-ebe85d935fa4",
   "metadata": {},
   "outputs": [],
   "source": [
    "colnames(datasets) <- c(\"user.id\", \"dataset.id\")"
   ]
  }
 ],
 "metadata": {
  "kernelspec": {
   "display_name": "R",
   "language": "R",
   "name": "ir"
  },
  "language_info": {
   "codemirror_mode": "r",
   "file_extension": ".r",
   "mimetype": "text/x-r-source",
   "name": "R",
   "pygments_lexer": "r",
   "version": "4.1.3"
  }
 },
 "nbformat": 4,
 "nbformat_minor": 5
}
